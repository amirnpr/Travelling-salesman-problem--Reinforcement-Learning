{
 "cells": [
  {
   "attachments": {},
   "cell_type": "markdown",
   "metadata": {},
   "source": [
    "# Solving Travelling Salesman problem with Reinforcement Learning (Q-Learning)"
   ]
  },
  {
   "cell_type": "code",
   "execution_count": 86,
   "metadata": {},
   "outputs": [],
   "source": [
    "import numpy as np\n",
    "\n",
    "class QLearningTSP:\n",
    "    def __init__(self, distances, actions, alpha=0.1, gamma=0.9, epsilon=0.1):\n",
    "\n",
    "       # distances between cities\n",
    "        self.distances = distances\n",
    "\n",
    "        # list of cities\n",
    "        self.actions = actions\n",
    "\n",
    "        # number of cities\n",
    "        self.n = len(actions)\n",
    "\n",
    "        # Initialize the Q-table with zeros\n",
    "        self.Q = np.zeros((self.n, self.n))\n",
    "\n",
    "        # learning rate\n",
    "        self.alpha = alpha\n",
    "\n",
    "        # discount factor\n",
    "        self.gamma = gamma\n",
    "\n",
    "        # exploration rate\n",
    "        self.epsilon = epsilon\n",
    "\n",
    "\n",
    "    # Training algorithm\n",
    "    def learn(self, start, iterations=10000):\n",
    "        for i in range(iterations):\n",
    "            state = start\n",
    "            visited = [state]\n",
    "\n",
    "            # Repeat until all cities are visited\n",
    "            while len(visited) < self.n:\n",
    "\n",
    "                # Choose action (the next city to visit)\n",
    "                action = self.select_action(state, visited)\n",
    "\n",
    "                # Compute the reward\n",
    "                reward = -self.distances[state, action]\n",
    "\n",
    "                # Set the next state as the chosen city\n",
    "                next_state = action\n",
    "\n",
    "                # Find the maximum Q-value\n",
    "                max_q = max(self.Q[next_state, :])\n",
    "\n",
    "                # Update the Q-value for the current state and action\n",
    "                self.Q[state, action] = (1 - self.alpha) * self.Q[state, action] + self.alpha * (reward + self.gamma * max_q)\n",
    "                state = next_state\n",
    "                visited.append(state)\n",
    "    \n",
    "    def select_action(self, state, visited):\n",
    "\n",
    "        # Find the list of unvisited cities\n",
    "        unvisited = np.setdiff1d(self.actions, visited)\n",
    "\n",
    "        # random action\n",
    "        if np.random.uniform(0, 1) < self.epsilon:\n",
    "            action = np.random.choice(unvisited)\n",
    "        else:\n",
    "\n",
    "        ## Choose the action with the highest Q-value with probability 1-epsilon\n",
    "            action = unvisited[np.argmax(self.Q[state, unvisited])]\n",
    "        return action\n",
    "    \n",
    "    # Find the optimal path using the trained Q-table\n",
    "    def get_path(self, start):\n",
    "        state = start\n",
    "        path = [state]\n",
    "        visited = [state]\n",
    "        while len(visited) < self.n:\n",
    "            action = self.select_action(state, visited)\n",
    "            path.append(action)\n",
    "            visited.append(action)\n",
    "            state = action\n",
    "        return path\n",
    "\n",
    "    # Calculate the total distance of a given path\n",
    "    def get_total_distance(self, path):\n",
    "        distance = 0\n",
    "        for i in range(len(path) - 1):\n",
    "            distance += self.distances[path[i], path[i + 1]]\n",
    "        return distance"
   ]
  },
  {
   "attachments": {},
   "cell_type": "markdown",
   "metadata": {},
   "source": [
    "# Example 1"
   ]
  },
  {
   "cell_type": "code",
   "execution_count": 87,
   "metadata": {},
   "outputs": [
    {
     "name": "stdout",
     "output_type": "stream",
     "text": [
      "Optimal path: [0, 1, 2, 3, 4]\n",
      "Total distance: 135\n"
     ]
    }
   ],
   "source": [
    "import numpy as np\n",
    "\n",
    "# distances between the cities\n",
    "distances = np.array([[0, 10, 20, 30, 40],\n",
    "                      [10, 0, 25, 35, 45],\n",
    "                      [20, 25, 0, 40, 50],\n",
    "                      [30, 35, 40, 0, 60],\n",
    "                      [40, 45, 50, 60, 0]])\n",
    "\n",
    "# actions (cities)\n",
    "actions = [0, 1, 2, 3, 4]\n",
    "\n",
    "ql = QLearningTSP(distances, actions)\n",
    "\n",
    "# Train the algorithm\n",
    "ql.learn(start=0, iterations=10000)\n",
    "\n",
    "# optimal path\n",
    "path = ql.get_path(0)\n",
    "\n",
    "# total distance of the optimal path\n",
    "distance = ql.get_total_distance(path)\n",
    "\n",
    "print(\"Optimal path:\", path)\n",
    "print(\"Total distance:\", distance)\n"
   ]
  },
  {
   "attachments": {},
   "cell_type": "markdown",
   "metadata": {},
   "source": [
    "# Example 2"
   ]
  },
  {
   "cell_type": "code",
   "execution_count": 88,
   "metadata": {},
   "outputs": [
    {
     "name": "stdout",
     "output_type": "stream",
     "text": [
      "Optimal path: [0, 5, 6, 2, 1, 3, 4, 7, 8, 9]\n",
      "Total distance: 540\n"
     ]
    }
   ],
   "source": [
    "import numpy as np\n",
    "\n",
    "distances = np.array([[0, 50, 80, 60, 120, 90, 80, 70, 140, 110],\n",
    "                      [50, 0, 60, 40, 80, 50, 70, 100, 120, 80],\n",
    "                      [80, 60, 0, 80, 70, 110, 140, 130, 70, 90],\n",
    "                      [60, 40, 80, 0, 60, 90, 110, 120, 80, 70],\n",
    "                      [120, 80, 70, 60, 0, 40, 60, 70, 80, 90],\n",
    "                      [90, 50, 110, 90, 40, 0, 30, 40, 60, 50],\n",
    "                      [80, 70, 140, 110, 60, 30, 0, 20, 50, 60],\n",
    "                      [70, 100, 130, 120, 70, 40, 20, 0, 30, 40],\n",
    "                      [140, 120, 70, 80, 80, 60, 50, 30, 0, 20],\n",
    "                      [110, 80, 90, 70, 90, 50, 60, 40, 20, 0]])\n",
    "\n",
    "actions = [0, 1, 2, 3, 4, 5, 6, 7, 8, 9]\n",
    "\n",
    "model = QLearningTSP(distances, actions)\n",
    "\n",
    "model.learn(0, iterations=10000)\n",
    "\n",
    "path = model.get_path(0)\n",
    "print(\"Optimal path:\", path)\n",
    "\n",
    "total_distance = model.get_total_distance(path)\n",
    "print(\"Total distance:\", total_distance)\n"
   ]
  }
 ],
 "metadata": {
  "kernelspec": {
   "display_name": "Python 3",
   "language": "python",
   "name": "python3"
  },
  "language_info": {
   "codemirror_mode": {
    "name": "ipython",
    "version": 3
   },
   "file_extension": ".py",
   "mimetype": "text/x-python",
   "name": "python",
   "nbconvert_exporter": "python",
   "pygments_lexer": "ipython3",
   "version": "3.10.8"
  },
  "orig_nbformat": 4,
  "vscode": {
   "interpreter": {
    "hash": "8c3d4d9970fc5c09c50d9318a9c7fbf4d0159e4b28833276f5678ee22bded273"
   }
  }
 },
 "nbformat": 4,
 "nbformat_minor": 2
}
